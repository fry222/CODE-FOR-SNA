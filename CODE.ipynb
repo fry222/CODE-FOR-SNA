{
 "cells": [
  {
   "cell_type": "code",
   "execution_count": null,
   "metadata": {},
   "outputs": [],
   "source": [
    "import pandas as pd\n",
    "import spacy\n",
    "import os\n",
    "import networkx as nx\n",
    "from collections import defaultdict\n",
    "import csv\n",
    "from tqdm import tqdm \n",
    "import re\n",
    "import matplotlib.pyplot as plt\n",
    "from spacy.pipeline import EntityRuler\n"
   ]
  },
  {
   "cell_type": "code",
   "execution_count": null,
   "metadata": {},
   "outputs": [],
   "source": [
    "nlp = spacy.load(\"en_core_web_trf\") "
   ]
  },
  {
   "cell_type": "code",
   "execution_count": null,
   "metadata": {},
   "outputs": [],
   "source": [
    "docs = []\n",
    "\n",
    "directory= 'data4/clean/'\n",
    "\n",
    "whole = \"\"\n",
    "\n",
    "for filename in os.listdir(directory):\n",
    "    if filename.endswith('.txt'):  \n",
    "        file_path = os.path.join(directory, filename)\n",
    "        with open(file_path, 'r', encoding='utf-8') as file:\n",
    "            content = file.read()\n",
    "            whole += content + \"\\n\\n\"  \n",
    "\n",
    "\n",
    "print(whole)  \n",
    "nlp.max_length = len(whole) + 100 "
   ]
  },
  {
   "cell_type": "code",
   "execution_count": null,
   "metadata": {},
   "outputs": [],
   "source": [
    "file_path = './manchester_data.csv'\n",
    "df = pd.read_csv(file_path)\n",
    "\n",
    "\n",
    "street_names = df['final_text'].dropna().unique()\n",
    "\n",
    "\n",
    "whole_text = whole\n",
    "\n",
    "\n",
    "def is_valid_street_name(name):\n",
    "    if len(name) > 5 and len(name) < 50:\n",
    "        if re.match(\"^[A-Za-z0-9 .,'&-]+$\", name):\n",
    "            return True\n",
    "    return False\n",
    "\n",
    "valid_street_names = [name for name in street_names if is_valid_street_name(name)]"
   ]
  }
 ],
 "metadata": {
  "kernelspec": {
   "display_name": "Python 3.10.5 ('base')",
   "language": "python",
   "name": "python3"
  },
  "language_info": {
   "codemirror_mode": {
    "name": "ipython",
    "version": 3
   },
   "file_extension": ".py",
   "mimetype": "text/x-python",
   "name": "python",
   "nbconvert_exporter": "python",
   "pygments_lexer": "ipython3",
   "version": "3.11.5"
  },
  "vscode": {
   "interpreter": {
    "hash": "d4d1e4263499bec80672ea0156c357c1ee493ec2b1c70f0acce89fc37c4a6abe"
   }
  }
 },
 "nbformat": 4,
 "nbformat_minor": 4
}
